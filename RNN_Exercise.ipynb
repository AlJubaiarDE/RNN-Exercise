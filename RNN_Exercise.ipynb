{
  "nbformat": 4,
  "nbformat_minor": 0,
  "metadata": {
    "kernelspec": {
      "display_name": "Python 3",
      "language": "python",
      "name": "python3"
    },
    "language_info": {
      "codemirror_mode": {
        "name": "ipython",
        "version": 3
      },
      "file_extension": ".py",
      "mimetype": "text/x-python",
      "name": "python",
      "nbconvert_exporter": "python",
      "pygments_lexer": "ipython3",
      "version": "3.7.4"
    },
    "colab": {
      "name": "02-RNN-Exercise .ipynb",
      "provenance": [],
      "collapsed_sections": []
    }
  },
  "cells": [
    {
      "cell_type": "markdown",
      "metadata": {
        "id": "HLnnPD8p3j7Z",
        "colab_type": "text"
      },
      "source": [
        "___\n",
        "\n",
        "\n",
        "# RNN Exercise"
      ]
    },
    {
      "cell_type": "markdown",
      "metadata": {
        "id": "7unQMEbV3j7c",
        "colab_type": "text"
      },
      "source": [
        "\n",
        "\n",
        "```\n",
        "```\n",
        "\n",
        "**IMPORTING BASIC LIBRALIES**"
      ]
    },
    {
      "cell_type": "code",
      "metadata": {
        "id": "sjS-l2S-3j7d",
        "colab_type": "code",
        "colab": {
          "resources": {
            "http://localhost:8080/nbextensions/google.colab/files.js": {
              "data": "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",
              "ok": true,
              "headers": [
                [
                  "content-type",
                  "application/javascript"
                ]
              ],
              "status": 200,
              "status_text": ""
            }
          },
          "base_uri": "https://localhost:8080/",
          "height": 129
        },
        "outputId": "249a0378-4f7a-4f93-9095-50eaf65aa58a"
      },
      "source": [
        "\n",
        "import pandas as pd\n",
        "from google.colab import files\n",
        "data_to_load = files.upload()\n",
        "import io\n",
        "import seaborn as sns\n",
        "from matplotlib import pyplot as plt\n",
        "%matplotlib inline\n"
      ],
      "execution_count": 2,
      "outputs": [
        {
          "output_type": "display_data",
          "data": {
            "text/html": [
              "\n",
              "     <input type=\"file\" id=\"files-4d844f7a-5abd-4ffd-a37c-9dd4327c0ee6\" name=\"files[]\" multiple disabled\n",
              "        style=\"border:none\" />\n",
              "     <output id=\"result-4d844f7a-5abd-4ffd-a37c-9dd4327c0ee6\">\n",
              "      Upload widget is only available when the cell has been executed in the\n",
              "      current browser session. Please rerun this cell to enable.\n",
              "      </output>\n",
              "      <script src=\"/nbextensions/google.colab/files.js\"></script> "
            ],
            "text/plain": [
              "<IPython.core.display.HTML object>"
            ]
          },
          "metadata": {
            "tags": []
          }
        },
        {
          "output_type": "stream",
          "text": [
            "Saving Frozen_Dessert_Production.csv to Frozen_Dessert_Production.csv\n"
          ],
          "name": "stdout"
        },
        {
          "output_type": "stream",
          "text": [
            "/usr/local/lib/python3.6/dist-packages/statsmodels/tools/_testing.py:19: FutureWarning: pandas.util.testing is deprecated. Use the functions in the public API at pandas.testing instead.\n",
            "  import pandas.util.testing as tm\n"
          ],
          "name": "stderr"
        }
      ]
    },
    {
      "cell_type": "markdown",
      "metadata": {
        "id": "EpiegQeC3j7h",
        "colab_type": "text"
      },
      "source": [
        "## Data\n",
        "\n",
        "Info about this data set: https://fred.stlouisfed.org/series/IPN31152N\n",
        "\n",
        "\n",
        "Units:  Index 2012=100, Not Seasonally Adjusted\n",
        "\n",
        "Frequency:  Monthly\n",
        "\n",
        "The industrial production (IP) index measures the real output of all relevant establishments located in the United States, regardless of their ownership, but not those located in U.S. territories.\n",
        "\n",
        "NAICS = 31152\n",
        "\n",
        "Source Code: IP.N31152.N\n",
        "\n",
        "Suggested Citation:\n",
        "Board of Governors of the Federal Reserve System (US), Industrial Production: Nondurable Goods: Ice cream and frozen dessert [IPN31152N], retrieved from FRED, Federal Reserve Bank of St. Louis; https://fred.stlouisfed.org/series/IPN31152N, November 16, 2019.\n",
        "\n",
        "# Project Tasks\n",
        "\n",
        "**UPLOADING THE \"Frozen_Dessert_Production.csv\" from my device to Google colablartory. set the date to a datetime index columns**"
      ]
    },
    {
      "cell_type": "code",
      "metadata": {
        "id": "7gNQc85c3j7i",
        "colab_type": "code",
        "colab": {}
      },
      "source": [
        "df = pd.read_csv(io.BytesIO(data_to_load['Frozen_Dessert_Production.csv']),parse_dates=True, index_col = \"DATE\")"
      ],
      "execution_count": 3,
      "outputs": []
    },
    {
      "cell_type": "code",
      "metadata": {
        "id": "Y2sRDeQa3j7m",
        "colab_type": "code",
        "colab": {
          "base_uri": "https://localhost:8080/",
          "height": 431
        },
        "outputId": "03406b4c-8454-49aa-924d-109b8133b5dd"
      },
      "source": [
        "df"
      ],
      "execution_count": 4,
      "outputs": [
        {
          "output_type": "execute_result",
          "data": {
            "text/html": [
              "<div>\n",
              "<style scoped>\n",
              "    .dataframe tbody tr th:only-of-type {\n",
              "        vertical-align: middle;\n",
              "    }\n",
              "\n",
              "    .dataframe tbody tr th {\n",
              "        vertical-align: top;\n",
              "    }\n",
              "\n",
              "    .dataframe thead th {\n",
              "        text-align: right;\n",
              "    }\n",
              "</style>\n",
              "<table border=\"1\" class=\"dataframe\">\n",
              "  <thead>\n",
              "    <tr style=\"text-align: right;\">\n",
              "      <th></th>\n",
              "      <th>IPN31152N</th>\n",
              "    </tr>\n",
              "    <tr>\n",
              "      <th>DATE</th>\n",
              "      <th></th>\n",
              "    </tr>\n",
              "  </thead>\n",
              "  <tbody>\n",
              "    <tr>\n",
              "      <th>1972-01-01</th>\n",
              "      <td>59.9622</td>\n",
              "    </tr>\n",
              "    <tr>\n",
              "      <th>1972-02-01</th>\n",
              "      <td>67.0605</td>\n",
              "    </tr>\n",
              "    <tr>\n",
              "      <th>1972-03-01</th>\n",
              "      <td>74.2350</td>\n",
              "    </tr>\n",
              "    <tr>\n",
              "      <th>1972-04-01</th>\n",
              "      <td>78.1120</td>\n",
              "    </tr>\n",
              "    <tr>\n",
              "      <th>1972-05-01</th>\n",
              "      <td>84.7636</td>\n",
              "    </tr>\n",
              "    <tr>\n",
              "      <th>...</th>\n",
              "      <td>...</td>\n",
              "    </tr>\n",
              "    <tr>\n",
              "      <th>2019-05-01</th>\n",
              "      <td>114.5613</td>\n",
              "    </tr>\n",
              "    <tr>\n",
              "      <th>2019-06-01</th>\n",
              "      <td>124.9605</td>\n",
              "    </tr>\n",
              "    <tr>\n",
              "      <th>2019-07-01</th>\n",
              "      <td>110.2632</td>\n",
              "    </tr>\n",
              "    <tr>\n",
              "      <th>2019-08-01</th>\n",
              "      <td>102.6085</td>\n",
              "    </tr>\n",
              "    <tr>\n",
              "      <th>2019-09-01</th>\n",
              "      <td>101.5866</td>\n",
              "    </tr>\n",
              "  </tbody>\n",
              "</table>\n",
              "<p>573 rows × 1 columns</p>\n",
              "</div>"
            ],
            "text/plain": [
              "            IPN31152N\n",
              "DATE                 \n",
              "1972-01-01    59.9622\n",
              "1972-02-01    67.0605\n",
              "1972-03-01    74.2350\n",
              "1972-04-01    78.1120\n",
              "1972-05-01    84.7636\n",
              "...               ...\n",
              "2019-05-01   114.5613\n",
              "2019-06-01   124.9605\n",
              "2019-07-01   110.2632\n",
              "2019-08-01   102.6085\n",
              "2019-09-01   101.5866\n",
              "\n",
              "[573 rows x 1 columns]"
            ]
          },
          "metadata": {
            "tags": []
          },
          "execution_count": 4
        }
      ]
    },
    {
      "cell_type": "markdown",
      "metadata": {
        "id": "UfezTt6i3j7y",
        "colab_type": "text"
      },
      "source": [
        "**Change the column name to Production**"
      ]
    },
    {
      "cell_type": "code",
      "metadata": {
        "id": "z4Pab5TL3j7z",
        "colab_type": "code",
        "colab": {}
      },
      "source": [
        "df.rename(columns={'IPN31152N': 'Production'},inplace=True)"
      ],
      "execution_count": 5,
      "outputs": []
    },
    {
      "cell_type": "markdown",
      "metadata": {
        "id": "yCjZEr5J3j8G",
        "colab_type": "text"
      },
      "source": [
        "**Plotting out the time series**"
      ]
    },
    {
      "cell_type": "code",
      "metadata": {
        "id": "Yjr3LkIY3j8H",
        "colab_type": "code",
        "colab": {
          "base_uri": "https://localhost:8080/",
          "height": 469
        },
        "outputId": "96ed3ba9-f6c0-4290-d012-36797dff1ffc"
      },
      "source": [
        "df.plot(figsize =(12,8))"
      ],
      "execution_count": 6,
      "outputs": [
        {
          "output_type": "execute_result",
          "data": {
            "text/plain": [
              "<matplotlib.axes._subplots.AxesSubplot at 0x7f559b772278>"
            ]
          },
          "metadata": {
            "tags": []
          },
          "execution_count": 6
        },
        {
          "output_type": "display_data",
          "data": {
            "image/png": "[encoded data removed]",
            "text/plain": [
              "<Figure size 864x576 with 1 Axes>"
            ]
          },
          "metadata": {
            "tags": [],
            "needs_background": "light"
          }
        }
      ]
    },
    {
      "cell_type": "markdown",
      "metadata": {
        "id": "WAQlsapt3j8U",
        "colab_type": "text"
      },
      "source": [
        "## Train Test Split"
      ]
    },
    {
      "cell_type": "markdown",
      "metadata": {
        "id": "qoeow0CO3j8V",
        "colab_type": "text"
      },
      "source": [
        "**Figure out the length of the data set**"
      ]
    },
    {
      "cell_type": "code",
      "metadata": {
        "id": "wlfkzaiP3j8W",
        "colab_type": "code",
        "colab": {
          "base_uri": "https://localhost:8080/",
          "height": 34
        },
        "outputId": "9ff8778c-7d44-4a1e-c1f5-e8566d49506c"
      },
      "source": [
        "\n",
        "len(df)"
      ],
      "execution_count": 7,
      "outputs": [
        {
          "output_type": "execute_result",
          "data": {
            "text/plain": [
              "573"
            ]
          },
          "metadata": {
            "tags": []
          },
          "execution_count": 7
        }
      ]
    },
    {
      "cell_type": "markdown",
      "metadata": {
        "id": "XTgwp_qY3j8l",
        "colab_type": "text"
      },
      "source": [
        "**Split the data into a train/test split where the test set is the last 18 months of data.**"
      ]
    },
    {
      "cell_type": "code",
      "metadata": {
        "id": "drP86GJy3j8m",
        "colab_type": "code",
        "colab": {}
      },
      "source": [
        "test_spot = 18"
      ],
      "execution_count": 618,
      "outputs": []
    },
    {
      "cell_type": "code",
      "metadata": {
        "id": "mmWM4z_A3j8t",
        "colab_type": "code",
        "colab": {}
      },
      "source": [
        "test_index = int(len(df)-test_spot)"
      ],
      "execution_count": 619,
      "outputs": []
    },
    {
      "cell_type": "code",
      "metadata": {
        "id": "AaE04a_z3j8z",
        "colab_type": "code",
        "colab": {
          "base_uri": "https://localhost:8080/",
          "height": 34
        },
        "outputId": "b8b7e06d-567d-4675-d432-df2fcce82647"
      },
      "source": [
        "test_index"
      ],
      "execution_count": 620,
      "outputs": [
        {
          "output_type": "execute_result",
          "data": {
            "text/plain": [
              "555"
            ]
          },
          "metadata": {
            "tags": []
          },
          "execution_count": 620
        }
      ]
    },
    {
      "cell_type": "code",
      "metadata": {
        "id": "_qj4YMUw3j85",
        "colab_type": "code",
        "colab": {}
      },
      "source": [
        "train = df[:test_index]\n",
        "test = df[test_index:]"
      ],
      "execution_count": 621,
      "outputs": []
    },
    {
      "cell_type": "code",
      "metadata": {
        "id": "_SXjaZfR6TjF",
        "colab_type": "code",
        "colab": {
          "base_uri": "https://localhost:8080/",
          "height": 431
        },
        "outputId": "5e350f64-c106-4fca-fc0f-b52381bfc25f"
      },
      "source": [
        "train"
      ],
      "execution_count": 622,
      "outputs": [
        {
          "output_type": "execute_result",
          "data": {
            "text/html": [
              "<div>\n",
              "<style scoped>\n",
              "    .dataframe tbody tr th:only-of-type {\n",
              "        vertical-align: middle;\n",
              "    }\n",
              "\n",
              "    .dataframe tbody tr th {\n",
              "        vertical-align: top;\n",
              "    }\n",
              "\n",
              "    .dataframe thead th {\n",
              "        text-align: right;\n",
              "    }\n",
              "</style>\n",
              "<table border=\"1\" class=\"dataframe\">\n",
              "  <thead>\n",
              "    <tr style=\"text-align: right;\">\n",
              "      <th></th>\n",
              "      <th>Production</th>\n",
              "    </tr>\n",
              "    <tr>\n",
              "      <th>DATE</th>\n",
              "      <th></th>\n",
              "    </tr>\n",
              "  </thead>\n",
              "  <tbody>\n",
              "    <tr>\n",
              "      <th>1972-01-01</th>\n",
              "      <td>59.9622</td>\n",
              "    </tr>\n",
              "    <tr>\n",
              "      <th>1972-02-01</th>\n",
              "      <td>67.0605</td>\n",
              "    </tr>\n",
              "    <tr>\n",
              "      <th>1972-03-01</th>\n",
              "      <td>74.2350</td>\n",
              "    </tr>\n",
              "    <tr>\n",
              "      <th>1972-04-01</th>\n",
              "      <td>78.1120</td>\n",
              "    </tr>\n",
              "    <tr>\n",
              "      <th>1972-05-01</th>\n",
              "      <td>84.7636</td>\n",
              "    </tr>\n",
              "    <tr>\n",
              "      <th>...</th>\n",
              "      <td>...</td>\n",
              "    </tr>\n",
              "    <tr>\n",
              "      <th>2017-11-01</th>\n",
              "      <td>77.4378</td>\n",
              "    </tr>\n",
              "    <tr>\n",
              "      <th>2017-12-01</th>\n",
              "      <td>75.8118</td>\n",
              "    </tr>\n",
              "    <tr>\n",
              "      <th>2018-01-01</th>\n",
              "      <td>83.4343</td>\n",
              "    </tr>\n",
              "    <tr>\n",
              "      <th>2018-02-01</th>\n",
              "      <td>99.4899</td>\n",
              "    </tr>\n",
              "    <tr>\n",
              "      <th>2018-03-01</th>\n",
              "      <td>107.3152</td>\n",
              "    </tr>\n",
              "  </tbody>\n",
              "</table>\n",
              "<p>555 rows × 1 columns</p>\n",
              "</div>"
            ],
            "text/plain": [
              "            Production\n",
              "DATE                  \n",
              "1972-01-01     59.9622\n",
              "1972-02-01     67.0605\n",
              "1972-03-01     74.2350\n",
              "1972-04-01     78.1120\n",
              "1972-05-01     84.7636\n",
              "...                ...\n",
              "2017-11-01     77.4378\n",
              "2017-12-01     75.8118\n",
              "2018-01-01     83.4343\n",
              "2018-02-01     99.4899\n",
              "2018-03-01    107.3152\n",
              "\n",
              "[555 rows x 1 columns]"
            ]
          },
          "metadata": {
            "tags": []
          },
          "execution_count": 622
        }
      ]
    },
    {
      "cell_type": "code",
      "metadata": {
        "id": "x_PueTbM6WSt",
        "colab_type": "code",
        "colab": {
          "base_uri": "https://localhost:8080/",
          "height": 610
        },
        "outputId": "0e76eaaa-bacc-4866-fc87-c125cdd6c971"
      },
      "source": [
        "test"
      ],
      "execution_count": 623,
      "outputs": [
        {
          "output_type": "execute_result",
          "data": {
            "text/html": [
              "<div>\n",
              "<style scoped>\n",
              "    .dataframe tbody tr th:only-of-type {\n",
              "        vertical-align: middle;\n",
              "    }\n",
              "\n",
              "    .dataframe tbody tr th {\n",
              "        vertical-align: top;\n",
              "    }\n",
              "\n",
              "    .dataframe thead th {\n",
              "        text-align: right;\n",
              "    }\n",
              "</style>\n",
              "<table border=\"1\" class=\"dataframe\">\n",
              "  <thead>\n",
              "    <tr style=\"text-align: right;\">\n",
              "      <th></th>\n",
              "      <th>Production</th>\n",
              "    </tr>\n",
              "    <tr>\n",
              "      <th>DATE</th>\n",
              "      <th></th>\n",
              "    </tr>\n",
              "  </thead>\n",
              "  <tbody>\n",
              "    <tr>\n",
              "      <th>2018-04-01</th>\n",
              "      <td>112.4309</td>\n",
              "    </tr>\n",
              "    <tr>\n",
              "      <th>2018-05-01</th>\n",
              "      <td>110.3544</td>\n",
              "    </tr>\n",
              "    <tr>\n",
              "      <th>2018-06-01</th>\n",
              "      <td>124.5841</td>\n",
              "    </tr>\n",
              "    <tr>\n",
              "      <th>2018-07-01</th>\n",
              "      <td>117.2215</td>\n",
              "    </tr>\n",
              "    <tr>\n",
              "      <th>2018-08-01</th>\n",
              "      <td>112.6779</td>\n",
              "    </tr>\n",
              "    <tr>\n",
              "      <th>2018-09-01</th>\n",
              "      <td>103.3118</td>\n",
              "    </tr>\n",
              "    <tr>\n",
              "      <th>2018-10-01</th>\n",
              "      <td>92.1321</td>\n",
              "    </tr>\n",
              "    <tr>\n",
              "      <th>2018-11-01</th>\n",
              "      <td>82.4347</td>\n",
              "    </tr>\n",
              "    <tr>\n",
              "      <th>2018-12-01</th>\n",
              "      <td>76.7608</td>\n",
              "    </tr>\n",
              "    <tr>\n",
              "      <th>2019-01-01</th>\n",
              "      <td>86.9988</td>\n",
              "    </tr>\n",
              "    <tr>\n",
              "      <th>2019-02-01</th>\n",
              "      <td>98.1116</td>\n",
              "    </tr>\n",
              "    <tr>\n",
              "      <th>2019-03-01</th>\n",
              "      <td>116.1718</td>\n",
              "    </tr>\n",
              "    <tr>\n",
              "      <th>2019-04-01</th>\n",
              "      <td>114.9703</td>\n",
              "    </tr>\n",
              "    <tr>\n",
              "      <th>2019-05-01</th>\n",
              "      <td>114.5613</td>\n",
              "    </tr>\n",
              "    <tr>\n",
              "      <th>2019-06-01</th>\n",
              "      <td>124.9605</td>\n",
              "    </tr>\n",
              "    <tr>\n",
              "      <th>2019-07-01</th>\n",
              "      <td>110.2632</td>\n",
              "    </tr>\n",
              "    <tr>\n",
              "      <th>2019-08-01</th>\n",
              "      <td>102.6085</td>\n",
              "    </tr>\n",
              "    <tr>\n",
              "      <th>2019-09-01</th>\n",
              "      <td>101.5866</td>\n",
              "    </tr>\n",
              "  </tbody>\n",
              "</table>\n",
              "</div>"
            ],
            "text/plain": [
              "            Production\n",
              "DATE                  \n",
              "2018-04-01    112.4309\n",
              "2018-05-01    110.3544\n",
              "2018-06-01    124.5841\n",
              "2018-07-01    117.2215\n",
              "2018-08-01    112.6779\n",
              "2018-09-01    103.3118\n",
              "2018-10-01     92.1321\n",
              "2018-11-01     82.4347\n",
              "2018-12-01     76.7608\n",
              "2019-01-01     86.9988\n",
              "2019-02-01     98.1116\n",
              "2019-03-01    116.1718\n",
              "2019-04-01    114.9703\n",
              "2019-05-01    114.5613\n",
              "2019-06-01    124.9605\n",
              "2019-07-01    110.2632\n",
              "2019-08-01    102.6085\n",
              "2019-09-01    101.5866"
            ]
          },
          "metadata": {
            "tags": []
          },
          "execution_count": 623
        }
      ]
    },
    {
      "cell_type": "markdown",
      "metadata": {
        "id": "VymFnU3p3j9A",
        "colab_type": "text"
      },
      "source": [
        "## Scale Data"
      ]
    },
    {
      "cell_type": "markdown",
      "metadata": {
        "id": "wyZ8TKRx3j9C",
        "colab_type": "text"
      },
      "source": [
        "**Use a MinMaxScaler to scale the train and test sets into scaled versions.**"
      ]
    },
    {
      "cell_type": "code",
      "metadata": {
        "id": "nMbOrWGn3j9D",
        "colab_type": "code",
        "colab": {}
      },
      "source": [
        "from sklearn.preprocessing import MinMaxScaler"
      ],
      "execution_count": 624,
      "outputs": []
    },
    {
      "cell_type": "code",
      "metadata": {
        "id": "iforOyjn3j9J",
        "colab_type": "code",
        "colab": {}
      },
      "source": [
        "scaler = MinMaxScaler()"
      ],
      "execution_count": 625,
      "outputs": []
    },
    {
      "cell_type": "code",
      "metadata": {
        "id": "KCRHf1qN3j9N",
        "colab_type": "code",
        "colab": {}
      },
      "source": [
        "scaled_train = scaler.fit_transform(train)\n",
        "scaled_test = scaler.transform(test)"
      ],
      "execution_count": 626,
      "outputs": []
    },
    {
      "cell_type": "markdown",
      "metadata": {
        "id": "jKd_QR9W3j9m",
        "colab_type": "text"
      },
      "source": [
        "# Time Series Generator\n",
        "\n",
        "**Create a TimeSeriesGenerator object based off the scaled_train data. The batch length here is 1, and length = 12.**"
      ]
    },
    {
      "cell_type": "code",
      "metadata": {
        "id": "QqslB1OI3j9n",
        "colab_type": "code",
        "colab": {}
      },
      "source": [
        "from tensorflow.keras.preprocessing.sequence import TimeseriesGenerator"
      ],
      "execution_count": 627,
      "outputs": []
    },
    {
      "cell_type": "code",
      "metadata": {
        "id": "QC8KjDoU3j9t",
        "colab_type": "code",
        "colab": {
          "base_uri": "https://localhost:8080/",
          "height": 34
        },
        "outputId": "ce8110a3-823f-48a9-e2ea-9191df19c8ed"
      },
      "source": [
        "len(test)"
      ],
      "execution_count": 628,
      "outputs": [
        {
          "output_type": "execute_result",
          "data": {
            "text/plain": [
              "18"
            ]
          },
          "metadata": {
            "tags": []
          },
          "execution_count": 628
        }
      ]
    },
    {
      "cell_type": "code",
      "metadata": {
        "id": "4gr8MAYc3j90",
        "colab_type": "code",
        "colab": {}
      },
      "source": [
        "length= 12\n",
        "generator =  TimeseriesGenerator(scaled_train, scaled_train, length= length, batch_size = 1)"
      ],
      "execution_count": 629,
      "outputs": []
    },
    {
      "cell_type": "code",
      "metadata": {
        "id": "RGMpNSNR8OMM",
        "colab_type": "code",
        "colab": {}
      },
      "source": [
        "X,y = generator[0]"
      ],
      "execution_count": 630,
      "outputs": []
    },
    {
      "cell_type": "code",
      "metadata": {
        "id": "nfLH7P7w8Ow5",
        "colab_type": "code",
        "colab": {
          "base_uri": "https://localhost:8080/",
          "height": 228
        },
        "outputId": "96a81b81-bdf9-4948-d7bc-6ca76fb1fbb2"
      },
      "source": [
        "X"
      ],
      "execution_count": 631,
      "outputs": [
        {
          "output_type": "execute_result",
          "data": {
            "text/plain": [
              "array([[[0.00947104],\n",
              "        [0.06108982],\n",
              "        [0.11326273],\n",
              "        [0.14145625],\n",
              "        [0.18982663],\n",
              "        [0.30495972],\n",
              "        [0.30154406],\n",
              "        [0.27416065],\n",
              "        [0.19736841],\n",
              "        [0.08532665],\n",
              "        [0.01561588],\n",
              "        [0.        ]]])"
            ]
          },
          "metadata": {
            "tags": []
          },
          "execution_count": 631
        }
      ]
    },
    {
      "cell_type": "code",
      "metadata": {
        "id": "xouhVrG58aEh",
        "colab_type": "code",
        "colab": {
          "base_uri": "https://localhost:8080/",
          "height": 34
        },
        "outputId": "3c9656f2-2111-454c-9dca-75edc4fd74c2"
      },
      "source": [
        "y"
      ],
      "execution_count": 632,
      "outputs": [
        {
          "output_type": "execute_result",
          "data": {
            "text/plain": [
              "array([[0.01774221]])"
            ]
          },
          "metadata": {
            "tags": []
          },
          "execution_count": 632
        }
      ]
    },
    {
      "cell_type": "code",
      "metadata": {
        "id": "urzOnN768o5o",
        "colab_type": "code",
        "colab": {
          "base_uri": "https://localhost:8080/",
          "height": 1000
        },
        "outputId": "2716eb61-4cbc-4a27-ab15-7365d610f768"
      },
      "source": [
        "scaled_train"
      ],
      "execution_count": 633,
      "outputs": [
        {
          "output_type": "execute_result",
          "data": {
            "text/plain": [
              "array([[0.00947104],\n",
              "       [0.06108982],\n",
              "       [0.11326273],\n",
              "       [0.14145625],\n",
              "       [0.18982663],\n",
              "       [0.30495972],\n",
              "       [0.30154406],\n",
              "       [0.27416065],\n",
              "       [0.19736841],\n",
              "       [0.08532665],\n",
              "       [0.01561588],\n",
              "       [0.        ],\n",
              "       [0.01774221],\n",
              "       [0.09850931],\n",
              "       [0.15590133],\n",
              "       [0.18358944],\n",
              "       [0.20878908],\n",
              "       [0.37150354],\n",
              "       [0.3542551 ],\n",
              "       [0.29817568],\n",
              "       [0.23973867],\n",
              "       [0.12104304],\n",
              "       [0.05289938],\n",
              "       [0.02087498],\n",
              "       [0.03141355],\n",
              "       [0.12133246],\n",
              "       [0.18622481],\n",
              "       [0.18855185],\n",
              "       [0.23182893],\n",
              "       [0.37263651],\n",
              "       [0.32891584],\n",
              "       [0.30809031],\n",
              "       [0.22409662],\n",
              "       [0.10933731],\n",
              "       [0.05452176],\n",
              "       [0.01749278],\n",
              "       [0.04076752],\n",
              "       [0.12186114],\n",
              "       [0.19277469],\n",
              "       [0.19221257],\n",
              "       [0.28139264],\n",
              "       [0.39898221],\n",
              "       [0.35985962],\n",
              "       [0.3357137 ],\n",
              "       [0.22874706],\n",
              "       [0.12405219],\n",
              "       [0.08404241],\n",
              "       [0.02969736],\n",
              "       [0.02386668],\n",
              "       [0.11198795],\n",
              "       [0.20583228],\n",
              "       [0.22885832],\n",
              "       [0.258115  ],\n",
              "       [0.37353242],\n",
              "       [0.35488703],\n",
              "       [0.32839226],\n",
              "       [0.24418041],\n",
              "       [0.11957773],\n",
              "       [0.06451857],\n",
              "       [0.02780228],\n",
              "       [0.0371497 ],\n",
              "       [0.11927158],\n",
              "       [0.22805913],\n",
              "       [0.24728191],\n",
              "       [0.29422626],\n",
              "       [0.40769115],\n",
              "       [0.39028709],\n",
              "       [0.34726599],\n",
              "       [0.24042588],\n",
              "       [0.12627596],\n",
              "       [0.06351285],\n",
              "       [0.0202285 ],\n",
              "       [0.02347545],\n",
              "       [0.10334519],\n",
              "       [0.1837756 ],\n",
              "       [0.2210642 ],\n",
              "       [0.24573807],\n",
              "       [0.38298674],\n",
              "       [0.35098488],\n",
              "       [0.32746581],\n",
              "       [0.23241214],\n",
              "       [0.14925109],\n",
              "       [0.06708485],\n",
              "       [0.02722198],\n",
              "       [0.03164989],\n",
              "       [0.11112186],\n",
              "       [0.2019265 ],\n",
              "       [0.23665099],\n",
              "       [0.26208914],\n",
              "       [0.37409745],\n",
              "       [0.35265235],\n",
              "       [0.34987663],\n",
              "       [0.26656578],\n",
              "       [0.15226024],\n",
              "       [0.06714158],\n",
              "       [0.03363442],\n",
              "       [0.06052406],\n",
              "       [0.12932729],\n",
              "       [0.19801489],\n",
              "       [0.21334643],\n",
              "       [0.24370918],\n",
              "       [0.36219466],\n",
              "       [0.35788891],\n",
              "       [0.35776456],\n",
              "       [0.23277138],\n",
              "       [0.12775799],\n",
              "       [0.05691861],\n",
              "       [0.03785508],\n",
              "       [0.01381533],\n",
              "       [0.12962762],\n",
              "       [0.20328854],\n",
              "       [0.22088022],\n",
              "       [0.25480042],\n",
              "       [0.37831666],\n",
              "       [0.37904459],\n",
              "       [0.34512729],\n",
              "       [0.23860352],\n",
              "       [0.13282148],\n",
              "       [0.08994218],\n",
              "       [0.05773525],\n",
              "       [0.02483822],\n",
              "       [0.13358431],\n",
              "       [0.21702097],\n",
              "       [0.20059209],\n",
              "       [0.25218323],\n",
              "       [0.35104815],\n",
              "       [0.30896077],\n",
              "       [0.2875462 ],\n",
              "       [0.20017176],\n",
              "       [0.0975465 ],\n",
              "       [0.05358004],\n",
              "       [0.02042848],\n",
              "       [0.03538915],\n",
              "       [0.11420518],\n",
              "       [0.20355324],\n",
              "       [0.18085953],\n",
              "       [0.25954903],\n",
              "       [0.37499118],\n",
              "       [0.35553497],\n",
              "       [0.3391439 ],\n",
              "       [0.27074427],\n",
              "       [0.148385  ],\n",
              "       [0.08505031],\n",
              "       [0.05037236],\n",
              "       [0.06065787],\n",
              "       [0.19601364],\n",
              "       [0.27717707],\n",
              "       [0.31389336],\n",
              "       [0.36123257],\n",
              "       [0.5103535 ],\n",
              "       [0.48335114],\n",
              "       [0.42139813],\n",
              "       [0.35071873],\n",
              "       [0.21527206],\n",
              "       [0.15798912],\n",
              "       [0.11136474],\n",
              "       [0.12736022],\n",
              "       [0.20326527],\n",
              "       [0.30960943],\n",
              "       [0.33601549],\n",
              "       [0.40474599],\n",
              "       [0.52313039],\n",
              "       [0.47891086],\n",
              "       [0.42749206],\n",
              "       [0.33018917],\n",
              "       [0.20046264],\n",
              "       [0.11634751],\n",
              "       [0.08706829],\n",
              "       [0.10924132],\n",
              "       [0.22016465],\n",
              "       [0.30084013],\n",
              "       [0.33190536],\n",
              "       [0.39731693],\n",
              "       [0.4993168 ],\n",
              "       [0.4556863 ],\n",
              "       [0.43936795],\n",
              "       [0.27786718],\n",
              "       [0.20181378],\n",
              "       [0.13316399],\n",
              "       [0.08697739],\n",
              "       [0.11117567],\n",
              "       [0.2609009 ],\n",
              "       [0.32682078],\n",
              "       [0.35021332],\n",
              "       [0.42287143],\n",
              "       [0.53338753],\n",
              "       [0.49991019],\n",
              "       [0.47278857],\n",
              "       [0.34951085],\n",
              "       [0.22357085],\n",
              "       [0.18885364],\n",
              "       [0.15302162],\n",
              "       [0.15446002],\n",
              "       [0.28620889],\n",
              "       [0.41037451],\n",
              "       [0.44149937],\n",
              "       [0.51908643],\n",
              "       [0.67098671],\n",
              "       [0.6310693 ],\n",
              "       [0.59691057],\n",
              "       [0.42703174],\n",
              "       [0.30134117],\n",
              "       [0.21173496],\n",
              "       [0.17769331],\n",
              "       [0.21058162],\n",
              "       [0.33226023],\n",
              "       [0.41286154],\n",
              "       [0.45465949],\n",
              "       [0.49043479],\n",
              "       [0.5949195 ],\n",
              "       [0.55552639],\n",
              "       [0.50626082],\n",
              "       [0.37695462],\n",
              "       [0.28191477],\n",
              "       [0.23327315],\n",
              "       [0.19892025],\n",
              "       [0.17357736],\n",
              "       [0.32809629],\n",
              "       [0.4263489 ],\n",
              "       [0.46025165],\n",
              "       [0.4935632 ],\n",
              "       [0.60079527],\n",
              "       [0.617843  ],\n",
              "       [0.51202315],\n",
              "       [0.40538302],\n",
              "       [0.28864864],\n",
              "       [0.21277195],\n",
              "       [0.19688192],\n",
              "       [0.19348371],\n",
              "       [0.33595876],\n",
              "       [0.4323352 ],\n",
              "       [0.46814249],\n",
              "       [0.50374908],\n",
              "       [0.71868953],\n",
              "       [0.59645534],\n",
              "       [0.56009611],\n",
              "       [0.45327491],\n",
              "       [0.32803084],\n",
              "       [0.24159158],\n",
              "       [0.22064751],\n",
              "       [0.22953752],\n",
              "       [0.37632559],\n",
              "       [0.52945048],\n",
              "       [0.55670736],\n",
              "       [0.61181451],\n",
              "       [0.72450058],\n",
              "       [0.64286447],\n",
              "       [0.62011695],\n",
              "       [0.49738245],\n",
              "       [0.36981643],\n",
              "       [0.29573592],\n",
              "       [0.24950569],\n",
              "       [0.26693083],\n",
              "       [0.47106438],\n",
              "       [0.54508017],\n",
              "       [0.59702983],\n",
              "       [0.66830844],\n",
              "       [0.77390504],\n",
              "       [0.7325754 ],\n",
              "       [0.6803734 ],\n",
              "       [0.50636554],\n",
              "       [0.37017931],\n",
              "       [0.2737985 ],\n",
              "       [0.23159986],\n",
              "       [0.29683036],\n",
              "       [0.44392749],\n",
              "       [0.54969425],\n",
              "       [0.60065928],\n",
              "       [0.62634759],\n",
              "       [0.73133116],\n",
              "       [0.70677655],\n",
              "       [0.61726342],\n",
              "       [0.45562739],\n",
              "       [0.37282413],\n",
              "       [0.31570409],\n",
              "       [0.25793611],\n",
              "       [0.33661906],\n",
              "       [0.46491009],\n",
              "       [0.58333448],\n",
              "       [0.66460627],\n",
              "       [0.65484071],\n",
              "       [0.84212141],\n",
              "       [0.83159666],\n",
              "       [0.77134312],\n",
              "       [0.5765359 ],\n",
              "       [0.49703412],\n",
              "       [0.35935495],\n",
              "       [0.26985999],\n",
              "       [0.36437626],\n",
              "       [0.51454071],\n",
              "       [0.63086641],\n",
              "       [0.67844487],\n",
              "       [0.7149939 ],\n",
              "       [0.91226778],\n",
              "       [0.80510188],\n",
              "       [0.68516274],\n",
              "       [0.56400117],\n",
              "       [0.39649446],\n",
              "       [0.2818566 ],\n",
              "       [0.26014025],\n",
              "       [0.32665061],\n",
              "       [0.49801438],\n",
              "       [0.57758088],\n",
              "       [0.57365619],\n",
              "       [0.60384732],\n",
              "       [0.72545175],\n",
              "       [0.63770353],\n",
              "       [0.573702  ],\n",
              "       [0.42061493],\n",
              "       [0.34058739],\n",
              "       [0.26069946],\n",
              "       [0.18097152],\n",
              "       [0.2756834 ],\n",
              "       [0.43318312],\n",
              "       [0.51407385],\n",
              "       [0.55039963],\n",
              "       [0.595334  ],\n",
              "       [0.65870359],\n",
              "       [0.58609057],\n",
              "       [0.51790837],\n",
              "       [0.40765115],\n",
              "       [0.27578448],\n",
              "       [0.17157466],\n",
              "       [0.14559837],\n",
              "       [0.20169161],\n",
              "       [0.30520478],\n",
              "       [0.34726308],\n",
              "       [0.39276975],\n",
              "       [0.4190151 ],\n",
              "       [0.51046112],\n",
              "       [0.46158897],\n",
              "       [0.44354134],\n",
              "       [0.32636192],\n",
              "       [0.24344375],\n",
              "       [0.1867324 ],\n",
              "       [0.1517403 ],\n",
              "       [0.25227413],\n",
              "       [0.3827584 ],\n",
              "       [0.482933  ],\n",
              "       [0.5663013 ],\n",
              "       [0.5595318 ],\n",
              "       [0.66509713],\n",
              "       [0.63101039],\n",
              "       [0.53208803],\n",
              "       [0.42556207],\n",
              "       [0.40049988],\n",
              "       [0.24705066],\n",
              "       [0.21710605],\n",
              "       [0.3106246 ],\n",
              "       [0.41679205],\n",
              "       [0.4655653 ],\n",
              "       [0.55069633],\n",
              "       [0.53323628],\n",
              "       [0.65273256],\n",
              "       [0.6022453 ],\n",
              "       [0.55351132],\n",
              "       [0.50874712],\n",
              "       [0.41053159],\n",
              "       [0.3376495 ],\n",
              "       [0.33408986],\n",
              "       [0.45304729],\n",
              "       [0.61827568],\n",
              "       [0.70208393],\n",
              "       [0.80395291],\n",
              "       [0.7747675 ],\n",
              "       [0.94670357],\n",
              "       [0.83318341],\n",
              "       [0.76047149],\n",
              "       [0.66868586],\n",
              "       [0.56791495],\n",
              "       [0.40647818],\n",
              "       [0.34147893],\n",
              "       [0.48424123],\n",
              "       [0.60888972],\n",
              "       [0.62540223],\n",
              "       [0.67443146],\n",
              "       [0.64487663],\n",
              "       [0.75766377],\n",
              "       [0.63589572],\n",
              "       [0.59974083],\n",
              "       [0.49501178],\n",
              "       [0.41579651],\n",
              "       [0.34921415],\n",
              "       [0.25354891],\n",
              "       [0.33055422],\n",
              "       [0.48986321],\n",
              "       [0.59474788],\n",
              "       [0.65434403],\n",
              "       [0.66753543],\n",
              "       [0.80265631],\n",
              "       [0.71705115],\n",
              "       [0.68986262],\n",
              "       [0.62369695],\n",
              "       [0.58805692],\n",
              "       [0.44984325],\n",
              "       [0.38266895],\n",
              "       [0.52076263],\n",
              "       [0.65111818],\n",
              "       [0.73167294],\n",
              "       [0.82298299],\n",
              "       [0.80931746],\n",
              "       [1.        ],\n",
              "       [0.95692363],\n",
              "       [0.87718478],\n",
              "       [0.69141447],\n",
              "       [0.62214002],\n",
              "       [0.4621831 ],\n",
              "       [0.3511725 ],\n",
              "       [0.52481749],\n",
              "       [0.62277559],\n",
              "       [0.71054126],\n",
              "       [0.79313728],\n",
              "       [0.73648118],\n",
              "       [0.90148196],\n",
              "       [0.85356971],\n",
              "       [0.76810199],\n",
              "       [0.63817985],\n",
              "       [0.50364654],\n",
              "       [0.38121819],\n",
              "       [0.31740064],\n",
              "       [0.49162376],\n",
              "       [0.58495105],\n",
              "       [0.68667095],\n",
              "       [0.80952762],\n",
              "       [0.79009104],\n",
              "       [0.88302055],\n",
              "       [0.78941838],\n",
              "       [0.65857997],\n",
              "       [0.60582894],\n",
              "       [0.49204408],\n",
              "       [0.32987647],\n",
              "       [0.2969518 ],\n",
              "       [0.35876955],\n",
              "       [0.48110555],\n",
              "       [0.59006762],\n",
              "       [0.60473814],\n",
              "       [0.61824732],\n",
              "       [0.80533386],\n",
              "       [0.62801433],\n",
              "       [0.58998181],\n",
              "       [0.47530395],\n",
              "       [0.36576521],\n",
              "       [0.3184129 ],\n",
              "       [0.18278007],\n",
              "       [0.25838552],\n",
              "       [0.41127697],\n",
              "       [0.51611292],\n",
              "       [0.54115039],\n",
              "       [0.57690677],\n",
              "       [0.66681259],\n",
              "       [0.55138499],\n",
              "       [0.53718642],\n",
              "       [0.4420215 ],\n",
              "       [0.34988681],\n",
              "       [0.21230072],\n",
              "       [0.13914302],\n",
              "       [0.23728292],\n",
              "       [0.37697716],\n",
              "       [0.49767551],\n",
              "       [0.53803288],\n",
              "       [0.55192821],\n",
              "       [0.62024348],\n",
              "       [0.51047058],\n",
              "       [0.48647082],\n",
              "       [0.41747634],\n",
              "       [0.28427817],\n",
              "       [0.16309115],\n",
              "       [0.10268271],\n",
              "       [0.24689286],\n",
              "       [0.3454618 ],\n",
              "       [0.40423986],\n",
              "       [0.42151084],\n",
              "       [0.41797011],\n",
              "       [0.45169179],\n",
              "       [0.41887911],\n",
              "       [0.40972803],\n",
              "       [0.31339595],\n",
              "       [0.23591506],\n",
              "       [0.12980579],\n",
              "       [0.09307932],\n",
              "       [0.19444507],\n",
              "       [0.29743684],\n",
              "       [0.39142952],\n",
              "       [0.40833181],\n",
              "       [0.40654945],\n",
              "       [0.47764626],\n",
              "       [0.39026746],\n",
              "       [0.35620545],\n",
              "       [0.27422828],\n",
              "       [0.2198076 ],\n",
              "       [0.11764411],\n",
              "       [0.07351475],\n",
              "       [0.14149624],\n",
              "       [0.2863296 ],\n",
              "       [0.35795581],\n",
              "       [0.35814561],\n",
              "       [0.37998486],\n",
              "       [0.50926561],\n",
              "       [0.39057433],\n",
              "       [0.34465461],\n",
              "       [0.28747203],\n",
              "       [0.23516459],\n",
              "       [0.15569044],\n",
              "       [0.06649001],\n",
              "       [0.20170834],\n",
              "       [0.31321197],\n",
              "       [0.40080166],\n",
              "       [0.44136265],\n",
              "       [0.42156466],\n",
              "       [0.52634606],\n",
              "       [0.42622818],\n",
              "       [0.38365722],\n",
              "       [0.30511534],\n",
              "       [0.23707931],\n",
              "       [0.20297948],\n",
              "       [0.12155208],\n",
              "       [0.19574094],\n",
              "       [0.30468338],\n",
              "       [0.37028329],\n",
              "       [0.36143183],\n",
              "       [0.34467716],\n",
              "       [0.41797884],\n",
              "       [0.36154745],\n",
              "       [0.38938173],\n",
              "       [0.30315844],\n",
              "       [0.25649698],\n",
              "       [0.19782873],\n",
              "       [0.13318726],\n",
              "       [0.24834362],\n",
              "       [0.3149827 ],\n",
              "       [0.41828135],\n",
              "       [0.4766849 ],\n",
              "       [0.45728977],\n",
              "       [0.54050318],\n",
              "       [0.48134479],\n",
              "       [0.45575247],\n",
              "       [0.35906261],\n",
              "       [0.31068714],\n",
              "       [0.20365141],\n",
              "       [0.16432593],\n",
              "       [0.2587782 ],\n",
              "       [0.39071032],\n",
              "       [0.44387077],\n",
              "       [0.4695409 ],\n",
              "       [0.41743926],\n",
              "       [0.46851409],\n",
              "       [0.41889656],\n",
              "       [0.39641011],\n",
              "       [0.28544533],\n",
              "       [0.23134679],\n",
              "       [0.13655347],\n",
              "       [0.12472921],\n",
              "       [0.18015997],\n",
              "       [0.29691617],\n",
              "       [0.35382169]])"
            ]
          },
          "metadata": {
            "tags": []
          },
          "execution_count": 633
        }
      ]
    },
    {
      "cell_type": "markdown",
      "metadata": {
        "id": "Acdx7A963j97",
        "colab_type": "text"
      },
      "source": [
        "### Create the Model\n",
        "\n",
        "**Create a Keras Sequential Model with as many LSTM units and a final Dense Layer.**"
      ]
    },
    {
      "cell_type": "code",
      "metadata": {
        "id": "LTUMr98W3j97",
        "colab_type": "code",
        "colab": {}
      },
      "source": [
        "from tensorflow.keras.models import Sequential\n",
        "from tensorflow.keras.layers import Dense, LSTM"
      ],
      "execution_count": 634,
      "outputs": []
    },
    {
      "cell_type": "code",
      "metadata": {
        "id": "N9Bn-mKH3j-C",
        "colab_type": "code",
        "colab": {}
      },
      "source": [
        "n_features = 1\n",
        "model = Sequential()\n",
        "model.add(LSTM(100, activation= \"relu\", input_shape =(length, n_features)))\n",
        "model.add(Dense(1))\n",
        "model.compile(optimizer = \"adam\", loss = \"mse\")"
      ],
      "execution_count": 635,
      "outputs": []
    },
    {
      "cell_type": "code",
      "metadata": {
        "id": "0Yi15ZOX3j-I",
        "colab_type": "code",
        "colab": {
          "base_uri": "https://localhost:8080/",
          "height": 228
        },
        "outputId": "80be7082-71c9-4322-f52a-8a63e0625a8c"
      },
      "source": [
        "model.summary()"
      ],
      "execution_count": 636,
      "outputs": [
        {
          "output_type": "stream",
          "text": [
            "Model: \"sequential_29\"\n",
            "_________________________________________________________________\n",
            "Layer (type)                 Output Shape              Param #   \n",
            "=================================================================\n",
            "lstm_30 (LSTM)               (None, 100)               40800     \n",
            "_________________________________________________________________\n",
            "dense_39 (Dense)             (None, 1)                 101       \n",
            "=================================================================\n",
            "Total params: 40,901\n",
            "Trainable params: 40,901\n",
            "Non-trainable params: 0\n",
            "_________________________________________________________________\n"
          ],
          "name": "stdout"
        }
      ]
    },
    {
      "cell_type": "markdown",
      "metadata": {
        "id": "4jLCKi_23j-Z",
        "colab_type": "text"
      },
      "source": [
        "**Create an EarlyStopping callback based on val_loss.**\n",
        "(I found the patience = 2 performs well)"
      ]
    },
    {
      "cell_type": "code",
      "metadata": {
        "id": "pDo-7kwp3j-Z",
        "colab_type": "code",
        "colab": {}
      },
      "source": [
        "from tensorflow.keras.callbacks import EarlyStopping"
      ],
      "execution_count": 637,
      "outputs": []
    },
    {
      "cell_type": "code",
      "metadata": {
        "id": "vDDt9B3U3j-d",
        "colab_type": "code",
        "colab": {}
      },
      "source": [
        "early_stop = EarlyStopping(monitor = \"val_loss\", patience = 2)"
      ],
      "execution_count": 638,
      "outputs": []
    },
    {
      "cell_type": "markdown",
      "metadata": {
        "id": "rZ0j9vi33j-k",
        "colab_type": "text"
      },
      "source": [
        "**Fit the model to the generator, let the EarlyStopping dictate the amount of epochs.**"
      ]
    },
    {
      "cell_type": "code",
      "metadata": {
        "id": "6dXRDpL13j-l",
        "colab_type": "code",
        "colab": {}
      },
      "source": [
        "length = 12\n",
        "generator = TimeseriesGenerator(scaled_train, scaled_train, length = length, batch_size =1)\n",
        "validation_generator = TimeseriesGenerator(scaled_test, scaled_test, length = length, batch_size=1)"
      ],
      "execution_count": 639,
      "outputs": []
    },
    {
      "cell_type": "code",
      "metadata": {
        "id": "MY_rfLgJ3j-p",
        "colab_type": "code",
        "colab": {
          "base_uri": "https://localhost:8080/",
          "height": 195
        },
        "outputId": "9a9bb654-fe21-4f2a-a395-b358641cff4b"
      },
      "source": [
        "model.fit_generator(generator, epochs = 20, validation_data= validation_generator,\n",
        "                    callbacks = [early_stop])"
      ],
      "execution_count": 640,
      "outputs": [
        {
          "output_type": "stream",
          "text": [
            "Epoch 1/20\n",
            "543/543 [==============================] - 3s 5ms/step - loss: 0.0215 - val_loss: 0.0016\n",
            "Epoch 2/20\n",
            "543/543 [==============================] - 3s 5ms/step - loss: 0.0069 - val_loss: 0.0013\n",
            "Epoch 3/20\n",
            "543/543 [==============================] - 3s 5ms/step - loss: 0.0059 - val_loss: 0.0020\n",
            "Epoch 4/20\n",
            "543/543 [==============================] - 3s 5ms/step - loss: 0.0047 - val_loss: 0.0014\n"
          ],
          "name": "stdout"
        },
        {
          "output_type": "execute_result",
          "data": {
            "text/plain": [
              "<tensorflow.python.keras.callbacks.History at 0x7ff8fdaf65c0>"
            ]
          },
          "metadata": {
            "tags": []
          },
          "execution_count": 640
        }
      ]
    },
    {
      "cell_type": "markdown",
      "metadata": {
        "id": "z3w2cDWu3j-u",
        "colab_type": "text"
      },
      "source": [
        "**Plot the history of the loss that occured during training.**"
      ]
    },
    {
      "cell_type": "code",
      "metadata": {
        "id": "EbIR8_HA3j-v",
        "colab_type": "code",
        "colab": {}
      },
      "source": [
        "losses = pd.DataFrame(model.history.history)"
      ],
      "execution_count": 641,
      "outputs": []
    },
    {
      "cell_type": "code",
      "metadata": {
        "id": "uX5mewgL3j-2",
        "colab_type": "code",
        "colab": {
          "base_uri": "https://localhost:8080/",
          "height": 286
        },
        "outputId": "1b90cbca-78b1-42ea-c2f4-71d6d3488e06"
      },
      "source": [
        "losses.plot()"
      ],
      "execution_count": 642,
      "outputs": [
        {
          "output_type": "execute_result",
          "data": {
            "text/plain": [
              "<matplotlib.axes._subplots.AxesSubplot at 0x7ff8fbf61630>"
            ]
          },
          "metadata": {
            "tags": []
          },
          "execution_count": 642
        },
        {
          "output_type": "display_data",
          "data": {
            "image/png": "[encoded data removed]",
            "text/plain": [
              "<Figure size 432x288 with 1 Axes>"
            ]
          },
          "metadata": {
            "tags": [],
            "needs_background": "light"
          }
        }
      ]
    },
    {
      "cell_type": "markdown",
      "metadata": {
        "id": "U3M5P5yf3j-5",
        "colab_type": "text"
      },
      "source": [
        "## Evaluate on Test Data\n",
        "\n",
        "**Forecast predictions for the test data range (the last 18 months of the entire dataset). Remember to inverse scaling transformations. Final result should be a DataFrame with two columns, the true test values and the predictions.**"
      ]
    },
    {
      "cell_type": "code",
      "metadata": {
        "id": "Ic6pL6gB3j-7",
        "colab_type": "code",
        "colab": {}
      },
      "source": [
        "import numpy as np\n",
        "\n",
        "test_predictions = []\n",
        "first_eval_batch = scaled_train[-length:]\n",
        "current_batch = first_eval_batch.reshape((1, length, n_features))\n",
        "for i in range(len(test)):\n",
        "  current_pred = model.predict(current_batch)[0]\n",
        "  test_predictions.append(current_pred)\n",
        "  current_batch = np.append(current_batch[:,1:,:], [[current_pred]], axis = 1)"
      ],
      "execution_count": 643,
      "outputs": []
    },
    {
      "cell_type": "code",
      "metadata": {
        "id": "SeuyUnU03j_G",
        "colab_type": "code",
        "colab": {}
      },
      "source": [
        "true_predictions = scaler.inverse_transform(test_predictions)"
      ],
      "execution_count": 644,
      "outputs": []
    },
    {
      "cell_type": "code",
      "metadata": {
        "id": "l-g0ZXQr3j_P",
        "colab_type": "code",
        "colab": {
          "base_uri": "https://localhost:8080/",
          "height": 142
        },
        "outputId": "b31943f8-5dab-4b0a-c32e-f25b87548201"
      },
      "source": [
        "test[\"Predictions\"] = true_predictions"
      ],
      "execution_count": 645,
      "outputs": [
        {
          "output_type": "stream",
          "text": [
            "/usr/local/lib/python3.6/dist-packages/ipykernel_launcher.py:1: SettingWithCopyWarning: \n",
            "A value is trying to be set on a copy of a slice from a DataFrame.\n",
            "Try using .loc[row_indexer,col_indexer] = value instead\n",
            "\n",
            "See the caveats in the documentation: https://pandas.pydata.org/pandas-docs/stable/user_guide/indexing.html#returning-a-view-versus-a-copy\n",
            "  \"\"\"Entry point for launching an IPython kernel.\n"
          ],
          "name": "stderr"
        }
      ]
    },
    {
      "cell_type": "code",
      "metadata": {
        "id": "LvkTEfUw3j_d",
        "colab_type": "code",
        "colab": {
          "base_uri": "https://localhost:8080/",
          "height": 610
        },
        "outputId": "6f1baa68-fe37-4e95-9b6c-ffb18780decb"
      },
      "source": [
        "test"
      ],
      "execution_count": 646,
      "outputs": [
        {
          "output_type": "execute_result",
          "data": {
            "text/html": [
              "<div>\n",
              "<style scoped>\n",
              "    .dataframe tbody tr th:only-of-type {\n",
              "        vertical-align: middle;\n",
              "    }\n",
              "\n",
              "    .dataframe tbody tr th {\n",
              "        vertical-align: top;\n",
              "    }\n",
              "\n",
              "    .dataframe thead th {\n",
              "        text-align: right;\n",
              "    }\n",
              "</style>\n",
              "<table border=\"1\" class=\"dataframe\">\n",
              "  <thead>\n",
              "    <tr style=\"text-align: right;\">\n",
              "      <th></th>\n",
              "      <th>Production</th>\n",
              "      <th>Predictions</th>\n",
              "    </tr>\n",
              "    <tr>\n",
              "      <th>DATE</th>\n",
              "      <th></th>\n",
              "      <th></th>\n",
              "    </tr>\n",
              "  </thead>\n",
              "  <tbody>\n",
              "    <tr>\n",
              "      <th>2018-04-01</th>\n",
              "      <td>112.4309</td>\n",
              "      <td>113.518378</td>\n",
              "    </tr>\n",
              "    <tr>\n",
              "      <th>2018-05-01</th>\n",
              "      <td>110.3544</td>\n",
              "      <td>117.050690</td>\n",
              "    </tr>\n",
              "    <tr>\n",
              "      <th>2018-06-01</th>\n",
              "      <td>124.5841</td>\n",
              "      <td>118.279656</td>\n",
              "    </tr>\n",
              "    <tr>\n",
              "      <th>2018-07-01</th>\n",
              "      <td>117.2215</td>\n",
              "      <td>115.328936</td>\n",
              "    </tr>\n",
              "    <tr>\n",
              "      <th>2018-08-01</th>\n",
              "      <td>112.6779</td>\n",
              "      <td>108.230869</td>\n",
              "    </tr>\n",
              "    <tr>\n",
              "      <th>2018-09-01</th>\n",
              "      <td>103.3118</td>\n",
              "      <td>96.332320</td>\n",
              "    </tr>\n",
              "    <tr>\n",
              "      <th>2018-10-01</th>\n",
              "      <td>92.1321</td>\n",
              "      <td>86.029976</td>\n",
              "    </tr>\n",
              "    <tr>\n",
              "      <th>2018-11-01</th>\n",
              "      <td>82.4347</td>\n",
              "      <td>79.585961</td>\n",
              "    </tr>\n",
              "    <tr>\n",
              "      <th>2018-12-01</th>\n",
              "      <td>76.7608</td>\n",
              "      <td>79.055377</td>\n",
              "    </tr>\n",
              "    <tr>\n",
              "      <th>2019-01-01</th>\n",
              "      <td>86.9988</td>\n",
              "      <td>85.157751</td>\n",
              "    </tr>\n",
              "    <tr>\n",
              "      <th>2019-02-01</th>\n",
              "      <td>98.1116</td>\n",
              "      <td>94.135040</td>\n",
              "    </tr>\n",
              "    <tr>\n",
              "      <th>2019-03-01</th>\n",
              "      <td>116.1718</td>\n",
              "      <td>102.264210</td>\n",
              "    </tr>\n",
              "    <tr>\n",
              "      <th>2019-04-01</th>\n",
              "      <td>114.9703</td>\n",
              "      <td>109.077101</td>\n",
              "    </tr>\n",
              "    <tr>\n",
              "      <th>2019-05-01</th>\n",
              "      <td>114.5613</td>\n",
              "      <td>113.665889</td>\n",
              "    </tr>\n",
              "    <tr>\n",
              "      <th>2019-06-01</th>\n",
              "      <td>124.9605</td>\n",
              "      <td>115.068469</td>\n",
              "    </tr>\n",
              "    <tr>\n",
              "      <th>2019-07-01</th>\n",
              "      <td>110.2632</td>\n",
              "      <td>112.354934</td>\n",
              "    </tr>\n",
              "    <tr>\n",
              "      <th>2019-08-01</th>\n",
              "      <td>102.6085</td>\n",
              "      <td>104.928017</td>\n",
              "    </tr>\n",
              "    <tr>\n",
              "      <th>2019-09-01</th>\n",
              "      <td>101.5866</td>\n",
              "      <td>93.677358</td>\n",
              "    </tr>\n",
              "  </tbody>\n",
              "</table>\n",
              "</div>"
            ],
            "text/plain": [
              "            Production  Predictions\n",
              "DATE                               \n",
              "2018-04-01    112.4309   113.518378\n",
              "2018-05-01    110.3544   117.050690\n",
              "2018-06-01    124.5841   118.279656\n",
              "2018-07-01    117.2215   115.328936\n",
              "2018-08-01    112.6779   108.230869\n",
              "2018-09-01    103.3118    96.332320\n",
              "2018-10-01     92.1321    86.029976\n",
              "2018-11-01     82.4347    79.585961\n",
              "2018-12-01     76.7608    79.055377\n",
              "2019-01-01     86.9988    85.157751\n",
              "2019-02-01     98.1116    94.135040\n",
              "2019-03-01    116.1718   102.264210\n",
              "2019-04-01    114.9703   109.077101\n",
              "2019-05-01    114.5613   113.665889\n",
              "2019-06-01    124.9605   115.068469\n",
              "2019-07-01    110.2632   112.354934\n",
              "2019-08-01    102.6085   104.928017\n",
              "2019-09-01    101.5866    93.677358"
            ]
          },
          "metadata": {
            "tags": []
          },
          "execution_count": 646
        }
      ]
    },
    {
      "cell_type": "markdown",
      "metadata": {
        "id": "uEYvwYEr3j_s",
        "colab_type": "text"
      },
      "source": [
        "**Plotting my predictions versus the True test values.**"
      ]
    },
    {
      "cell_type": "code",
      "metadata": {
        "id": "IQwiNC2N3j_h",
        "colab_type": "code",
        "colab": {
          "base_uri": "https://localhost:8080/",
          "height": 481
        },
        "outputId": "c384430c-355c-4064-d8d1-2390db97dae1"
      },
      "source": [
        "test.plot(figsize=(12,8))"
      ],
      "execution_count": 647,
      "outputs": [
        {
          "output_type": "execute_result",
          "data": {
            "text/plain": [
              "<matplotlib.axes._subplots.AxesSubplot at 0x7ff8fbef0518>"
            ]
          },
          "metadata": {
            "tags": []
          },
          "execution_count": 647
        },
        {
          "output_type": "display_data",
          "data": {
            "image/png": "[encoded data removed]",
            "text/plain": [
              "<Figure size 864x576 with 1 Axes>"
            ]
          },
          "metadata": {
            "tags": [],
            "needs_background": "light"
          }
        }
      ]
    },
    {
      "cell_type": "markdown",
      "metadata": {
        "id": "iEr0ew_j3j_4",
        "colab_type": "text"
      },
      "source": [
        "**Calculate your RMSE.**"
      ]
    },
    {
      "cell_type": "code",
      "metadata": {
        "id": "-jC-rZd53j_5",
        "colab_type": "code",
        "colab": {
          "base_uri": "https://localhost:8080/",
          "height": 34
        },
        "outputId": "fd64f638-8899-4290-e418-aaadbf35168d"
      },
      "source": [
        "from sklearn.metrics import mean_squared_error\n",
        "np.sqrt(mean_squared_error(test[\"Production\"], test[\"Predictions\"]))"
      ],
      "execution_count": 649,
      "outputs": [
        {
          "output_type": "execute_result",
          "data": {
            "text/plain": [
              "5.900919173329116"
            ]
          },
          "metadata": {
            "tags": []
          },
          "execution_count": 649
        }
      ]
    },
    {
      "cell_type": "markdown",
      "metadata": {
        "id": "fVce37MAhib3",
        "colab_type": "text"
      },
      "source": [
        "**The Project is not finished here. I will try to play with the parameters in future more to reduce the RMSE .**"
      ]
    }
  ]
}